{
 "cells": [
  {
   "cell_type": "code",
   "execution_count": 1,
   "metadata": {},
   "outputs": [],
   "source": [
    "#Q1.\n",
    "\n",
    "# Web Scrapping is the process of automatically extracting data from websites. It is used to gather info from websites quickly & in large quantities without manual copying and pasting.\n",
    "\n",
    "# It is used for:\n",
    "#1. Data Collection: Gathering data for analysis, research, or reporting.\n",
    "#2. Competitor Analysis: Monitoring competitors' prices, products, and strategies.\n",
    "#3. Content Aggregation: Collecting news, articles, and blog posts for content platforms.\n",
    "\n",
    "# Common uses include market research, lead generation, and tracking changes on websites."
   ]
  },
  {
   "cell_type": "code",
   "execution_count": 1,
   "metadata": {},
   "outputs": [],
   "source": [
    "#Q2.\n",
    "\n",
    "# Different methods used for Web Scrapping are as follows:\n",
    "\n",
    "#1. Manual Copy-pasting\n",
    "#2. Python Libraries (Beautiful Soup, Requests)\n",
    "#3. Selenium for dynamic content\n",
    "#4. APIs for structured data\n",
    "#5. Scrapy for large-scale projects\n",
    "#6. Web scraping services for outsourcing\n",
    "#7. Browser extensions for visual extraction\n",
    "#8. Commercial tools (Octoparse) for GUI-based scraping"
   ]
  },
  {
   "cell_type": "code",
   "execution_count": 2,
   "metadata": {},
   "outputs": [],
   "source": [
    "#Q3.\n",
    "\n",
    "# Beautiful Soup is a Python library used for parsing HTML and XML documents.\n",
    "# It provides navigable interface to extract data from web pages.\n",
    "# It is widely used in web scraping.\n",
    "# It facilitates efficient and organized data extraction from websites."
   ]
  },
  {
   "cell_type": "code",
   "execution_count": 3,
   "metadata": {},
   "outputs": [],
   "source": [
    "#Q4.\n",
    "\n",
    "# In our case, Flask is used in this project to extract reviews and ratings in a user-friendly web-format for products on Flipkart so that we could analyse how well the particular product is perceived."
   ]
  },
  {
   "cell_type": "code",
   "execution_count": null,
   "metadata": {},
   "outputs": [],
   "source": [
    "#Q5.\n",
    "\n",
    "# We used the following AWS services for our project.\n",
    "\n",
    "#1. AWS Elastic Beanstalk: It was used to deploy and manage web application.\n",
    "#2. AWS CodePipeline: It was used to aut"
   ]
  }
 ],
 "metadata": {
  "kernelspec": {
   "display_name": "Python 3 (ipykernel)",
   "language": "python",
   "name": "python3"
  },
  "language_info": {
   "codemirror_mode": {
    "name": "ipython",
    "version": 3
   },
   "file_extension": ".py",
   "mimetype": "text/x-python",
   "name": "python",
   "nbconvert_exporter": "python",
   "pygments_lexer": "ipython3",
   "version": "3.10.8"
  }
 },
 "nbformat": 4,
 "nbformat_minor": 4
}
